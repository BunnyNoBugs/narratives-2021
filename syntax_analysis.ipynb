{
 "cells": [
  {
   "cell_type": "code",
   "execution_count": 33,
   "id": "871970c2-494d-42b0-85e6-c5b5d8e7d063",
   "metadata": {},
   "outputs": [],
   "source": [
    "import pandas as pd\n",
    "import seaborn as sns\n",
    "import matplotlib.pyplot as plt"
   ]
  },
  {
   "cell_type": "code",
   "execution_count": 79,
   "id": "9f83a602-2921-433d-aaaf-6644d6863499",
   "metadata": {},
   "outputs": [],
   "source": [
    "def filter_df(df):\n",
    "    df = df[df['is_prompt'] == 0]\n",
    "    return df"
   ]
  },
  {
   "cell_type": "code",
   "execution_count": 98,
   "id": "4caf06c7-8571-4756-8d2d-d8e1bae75773",
   "metadata": {},
   "outputs": [],
   "source": [
    "bi_df = filter_df(pd.read_csv('bilingual.csv'))\n",
    "bi_df['group'] = 'bilingual'\n",
    "mono_df = filter_df(pd.read_csv('monolingual.csv'))\n",
    "mono_df['group'] = 'monolingual'\n",
    "ad_df = filter_df(pd.read_csv('adult.csv'))\n",
    "ad_df['group'] = 'adult'\n",
    "all_df = pd.concat([bi_df, mono_df, ad_df])\n",
    "\n",
    "group_names = ['bilingual', 'monolingual', 'adult']"
   ]
  },
  {
   "cell_type": "code",
   "execution_count": 105,
   "id": "ebd9a46f-a7a3-499c-8d7c-e22d7930d802",
   "metadata": {},
   "outputs": [
    {
     "data": {
      "text/plain": [
       "group\n",
       "adult          2342\n",
       "bilingual      3948\n",
       "monolingual    4726\n",
       "dtype: int64"
      ]
     },
     "execution_count": 105,
     "metadata": {},
     "output_type": "execute_result"
    }
   ],
   "source": [
    "all_df.groupby('group').size()"
   ]
  },
  {
   "cell_type": "code",
   "execution_count": 128,
   "id": "67b40ab4-6cbe-4457-a5db-d11f986fff6e",
   "metadata": {},
   "outputs": [
    {
     "data": {
      "text/plain": [
       "group\n",
       "adult          351\n",
       "bilingual      662\n",
       "monolingual    887\n",
       "dtype: int64"
      ]
     },
     "execution_count": 128,
     "metadata": {},
     "output_type": "execute_result"
    }
   ],
   "source": [
    "a = pd.DataFrame(all_df.groupby(['group', 'segment_id', 'file']))\n",
    "a['group'] = a[0].apply(lambda x: x[0])\n",
    "a.groupby('group').size()"
   ]
  },
  {
   "cell_type": "markdown",
   "id": "8df91cb8-bb65-4618-838b-5cea34cfb12f",
   "metadata": {
    "tags": []
   },
   "source": [
    "## Средняя длина ЭДЕ (в токенах)"
   ]
  },
  {
   "cell_type": "markdown",
   "id": "d69a66af-01e8-4925-8c4d-f64a0dccc51c",
   "metadata": {
    "tags": []
   },
   "source": [
    "### Со знаками препинания"
   ]
  },
  {
   "cell_type": "code",
   "execution_count": 81,
   "id": "368d42a7-344d-4d8e-ab59-d77a89d37822",
   "metadata": {},
   "outputs": [
    {
     "data": {
      "image/png": "[encoded data removed]",
      "text/plain": [
       "<Figure size 360x360 with 1 Axes>"
      ]
     },
     "metadata": {
      "needs_background": "light"
     },
     "output_type": "display_data"
    }
   ],
   "source": [
    "edu_sizes = pd.DataFrame(all_df.groupby(['group', 'segment_id']).size())\n",
    "edu_sizes = edu_sizes.reset_index()\n",
    "\n",
    "sns.catplot(x='group', y=0, data=edu_sizes, kind='box');"
   ]
  },
  {
   "cell_type": "code",
   "execution_count": 82,
   "id": "7871dbf3-9f07-4af9-9dc4-76f8a608e29e",
   "metadata": {},
   "outputs": [
    {
     "name": "stdout",
     "output_type": "stream",
     "text": [
      "bilingual:\n",
      "25.636363636363637\n",
      "monolingual:\n",
      "31.71812080536913\n",
      "adult:\n",
      "22.304761904761904\n"
     ]
    }
   ],
   "source": [
    "for group in group_names:\n",
    "    group_df = all_df[all_df['group'] == group]\n",
    "    print(f'{group}:')\n",
    "    print(group_df.groupby('segment_id').size().mean())"
   ]
  },
  {
   "cell_type": "markdown",
   "id": "7f4f5b3c-2a55-482f-963c-9eab047a4fdb",
   "metadata": {},
   "source": [
    "### Без знаков препинания"
   ]
  },
  {
   "cell_type": "code",
   "execution_count": 83,
   "id": "b37aae73-634a-4a2e-9826-6174081ca78e",
   "metadata": {},
   "outputs": [],
   "source": [
    "all_df_no_punct = all_df[all_df['upos'].apply(lambda x: x not in ['PUNCT', 'X'])]"
   ]
  },
  {
   "cell_type": "code",
   "execution_count": 84,
   "id": "2e7431a3-c6bd-4189-9e40-426b62068741",
   "metadata": {},
   "outputs": [
    {
     "data": {
      "image/png": "[encoded data removed]",
      "text/plain": [
       "<Figure size 360x360 with 1 Axes>"
      ]
     },
     "metadata": {
      "needs_background": "light"
     },
     "output_type": "display_data"
    }
   ],
   "source": [
    "edu_sizes = pd.DataFrame(all_df_no_punct.groupby(['group', 'segment_id']).size())\n",
    "edu_sizes = edu_sizes.reset_index()\n",
    "\n",
    "sns.catplot(x='group', y=0, data=edu_sizes, kind='box');"
   ]
  },
  {
   "cell_type": "code",
   "execution_count": 85,
   "id": "22babae7-b02f-4052-b72c-a1b0654617da",
   "metadata": {},
   "outputs": [
    {
     "name": "stdout",
     "output_type": "stream",
     "text": [
      "bilingual:\n",
      "20.392156862745097\n",
      "monolingual:\n",
      "24.97972972972973\n",
      "adult:\n",
      "16.419047619047618\n"
     ]
    }
   ],
   "source": [
    "for group in group_names:\n",
    "    group_df = all_df[all_df['group'] == group]\n",
    "    group_df = group_df[group_df['upos'].apply(lambda x: x not in ['PUNCT', 'X'])]\n",
    "    print(f'{group}:')\n",
    "    print(group_df.groupby('segment_id').size().mean())"
   ]
  },
  {
   "cell_type": "markdown",
   "id": "224878b3-6a7c-4972-b568-22b197f8cd15",
   "metadata": {},
   "source": [
    "## Среднее количество ЭДЕ на текст"
   ]
  },
  {
   "cell_type": "code",
   "execution_count": 86,
   "id": "7d487520-191e-47dd-a762-26e8a1a4485d",
   "metadata": {},
   "outputs": [
    {
     "data": {
      "image/png": "[encoded data removed]",
      "text/plain": [
       "<Figure size 360x360 with 1 Axes>"
      ]
     },
     "metadata": {
      "needs_background": "light"
     },
     "output_type": "display_data"
    }
   ],
   "source": [
    "edu_counts = pd.DataFrame(all_df.groupby(['group', 'file']).size())\n",
    "edu_counts = edu_sizes.reset_index()\n",
    "\n",
    "sns.catplot(x='group', y=0, data=edu_counts, kind='box');"
   ]
  },
  {
   "cell_type": "code",
   "execution_count": 87,
   "id": "7ba88148-c46b-4c54-901e-46acb290621b",
   "metadata": {},
   "outputs": [
    {
     "name": "stdout",
     "output_type": "stream",
     "text": [
      "bilingual:\n",
      "394.8\n",
      "monolingual:\n",
      "315.06666666666666\n",
      "adult:\n",
      "468.4\n"
     ]
    }
   ],
   "source": [
    "for group in group_names:\n",
    "    group_df = all_df[all_df['group'] == group]\n",
    "    print(f'{group}:')\n",
    "    print(group_df.groupby('file').size().mean())"
   ]
  },
  {
   "cell_type": "markdown",
   "id": "3adc6904-0abc-4ba8-87b3-b9b6df37ee2b",
   "metadata": {},
   "source": [
    "## Частотность частей речи"
   ]
  },
  {
   "cell_type": "markdown",
   "id": "54979aed-8c6b-48d4-8032-e37c5152fff0",
   "metadata": {},
   "source": [
    "### На количество токенов"
   ]
  },
  {
   "cell_type": "code",
   "execution_count": 88,
   "id": "911fa69f-2d25-4d97-b583-819fb78432ee",
   "metadata": {},
   "outputs": [
    {
     "data": {
      "text/plain": [
       "array(['PART', 'ADV', 'DET', 'NOUN', 'ADP', 'VERB', 'CCONJ', 'PRON',\n",
       "       'PUNCT', 'AUX', 'SCONJ', 'PROPN', 'INTJ', 'SYM', 'X', 'NUM', 'ADJ'],\n",
       "      dtype=object)"
      ]
     },
     "execution_count": 88,
     "metadata": {},
     "output_type": "execute_result"
    }
   ],
   "source": [
    "all_df['upos'].unique()"
   ]
  },
  {
   "cell_type": "code",
   "execution_count": 89,
   "id": "2aae505f-ed0f-4861-b5b2-03e0c19421d5",
   "metadata": {},
   "outputs": [
    {
     "name": "stdout",
     "output_type": "stream",
     "text": [
      "ADJ\n",
      "bilingual:  14944.275582573455  ipm\n",
      "monolingual:  12060.939483707152  ipm\n",
      "adult:  18787.361229718186  ipm\n",
      "\n",
      "CCONJ\n",
      "bilingual:  68135.76494427558  ipm\n",
      "monolingual:  56707.575116377484  ipm\n",
      "adult:  24338.17250213493  ipm\n",
      "\n",
      "SCONJ\n",
      "bilingual:  18237.0820668693  ipm\n",
      "monolingual:  5078.290308929328  ipm\n",
      "adult:  10674.63706233988  ipm\n",
      "\n",
      "PART\n",
      "bilingual:  36727.456940222895  ipm\n",
      "monolingual:  23698.68810833686  ipm\n",
      "adult:  45687.44662681469  ipm\n",
      "\n",
      "NOUN\n",
      "bilingual:  162107.39614994935  ipm\n",
      "monolingual:  201015.65806178586  ipm\n",
      "adult:  192143.46712211784  ipm\n",
      "\n",
      "VERB\n",
      "bilingual:  135258.358662614  ipm\n",
      "monolingual:  173296.6567922133  ipm\n",
      "adult:  162254.4833475662  ipm\n",
      "\n"
     ]
    }
   ],
   "source": [
    "for pos in ['ADJ', 'CCONJ', 'SCONJ', 'PART', 'NOUN', 'VERB']:\n",
    "    print(pos)\n",
    "    for group in group_names:\n",
    "        group_df = all_df[all_df['group'] == group]\n",
    "        print(f'{group}: ',\n",
    "            len(group_df[group_df['upos'] == pos]) / len(group_df) * 10**6,\n",
    "              ' ipm')\n",
    "    print()"
   ]
  },
  {
   "cell_type": "markdown",
   "id": "dd9fabce-1450-4241-8d4d-4d05937528f6",
   "metadata": {},
   "source": [
    "### На ЭДЕ"
   ]
  },
  {
   "cell_type": "code",
   "execution_count": 90,
   "id": "864216b7-0e27-4361-9878-ed21b97967ba",
   "metadata": {},
   "outputs": [
    {
     "data": {
      "image/png": "[encoded data removed]",
      "text/plain": [
       "<Figure size 432x288 with 1 Axes>"
      ]
     },
     "metadata": {
      "needs_background": "light"
     },
     "output_type": "display_data"
    },
    {
     "data": {
      "image/png": "[encoded data removed]",
      "text/plain": [
       "<Figure size 432x288 with 1 Axes>"
      ]
     },
     "metadata": {
      "needs_background": "light"
     },
     "output_type": "display_data"
    },
    {
     "data": {
      "image/png": "[encoded data removed]",
      "text/plain": [
       "<Figure size 432x288 with 1 Axes>"
      ]
     },
     "metadata": {
      "needs_background": "light"
     },
     "output_type": "display_data"
    },
    {
     "data": {
      "image/png": "[encoded data removed]",
      "text/plain": [
       "<Figure size 432x288 with 1 Axes>"
      ]
     },
     "metadata": {
      "needs_background": "light"
     },
     "output_type": "display_data"
    },
    {
     "data": {
      "image/png": "[encoded data removed]",
      "text/plain": [
       "<Figure size 432x288 with 1 Axes>"
      ]
     },
     "metadata": {
      "needs_background": "light"
     },
     "output_type": "display_data"
    },
    {
     "data": {
      "image/png": "[encoded data removed]",
      "text/plain": [
       "<Figure size 432x288 with 1 Axes>"
      ]
     },
     "metadata": {
      "needs_background": "light"
     },
     "output_type": "display_data"
    }
   ],
   "source": [
    "for pos in ['ADJ', 'CCONJ', 'SCONJ', 'PART', 'NOUN', 'VERB']:\n",
    "    pos_df = pd.DataFrame(all_df[all_df['upos'] == pos].groupby(['segment_id', 'group']).size())\n",
    "    pos_df = pos_df.reset_index()\n",
    "    ax = sns.boxplot(x='group', y=0, data=pos_df)\n",
    "    ax.set_title(f'{pos}')\n",
    "    plt.show()"
   ]
  },
  {
   "cell_type": "code",
   "execution_count": 91,
   "id": "44ca250f-c89f-42ac-b4c1-c5a42f2ad8f9",
   "metadata": {},
   "outputs": [
    {
     "name": "stdout",
     "output_type": "stream",
     "text": [
      "ADJ\n",
      "bilingual: 1.2553191489361701\n",
      "monolingual: 1.3571428571428572\n",
      "adult: 1.4666666666666666\n",
      "\n",
      "CCONJ\n",
      "bilingual: 2.5619047619047617\n",
      "monolingual: 2.9450549450549453\n",
      "adult: 1.2666666666666666\n",
      "\n",
      "SCONJ\n",
      "bilingual: 1.44\n",
      "monolingual: 1.263157894736842\n",
      "adult: 1.1904761904761905\n",
      "\n",
      "PART\n",
      "bilingual: 1.9333333333333333\n",
      "monolingual: 1.8983050847457628\n",
      "adult: 1.8448275862068966\n",
      "\n",
      "NOUN\n",
      "bilingual: 4.507042253521127\n",
      "monolingual: 6.934306569343065\n",
      "adult: 4.455445544554456\n",
      "\n",
      "VERB\n",
      "bilingual: 4.1395348837209305\n",
      "monolingual: 5.934782608695652\n",
      "adult: 3.7254901960784315\n",
      "\n"
     ]
    }
   ],
   "source": [
    "for pos in ['ADJ', 'CCONJ', 'SCONJ', 'PART', 'NOUN', 'VERB']:\n",
    "    print(pos)\n",
    "    for group in group_names:\n",
    "        group_df = all_df[all_df['group'] == group]\n",
    "        print(f\"{group}: {group_df[group_df['upos'] == pos].groupby('segment_id').size().mean()}\")\n",
    "    print()"
   ]
  },
  {
   "cell_type": "markdown",
   "id": "f20bd74b-aa60-42f8-bacd-0a70cdc894c2",
   "metadata": {},
   "source": [
    "## Частотность нефинитных форм"
   ]
  },
  {
   "cell_type": "markdown",
   "id": "87a1e6ca-0212-4d9c-8a6b-7e7dacc11439",
   "metadata": {},
   "source": [
    "### На количество токенов"
   ]
  },
  {
   "cell_type": "code",
   "execution_count": 92,
   "id": "623b3a16-1952-4de2-acac-d80c9b7100a1",
   "metadata": {},
   "outputs": [
    {
     "name": "stdout",
     "output_type": "stream",
     "text": [
      "VerbForm=Fin\n",
      "bilingual:  904494.3820224719  ipm\n",
      "monolingual:  886446.8864468865  ipm\n",
      "adult:  842105.2631578947  ipm\n",
      "\n",
      "VerbForm=Inf\n",
      "bilingual:  95505.61797752809  ipm\n",
      "monolingual:  105006.105006105  ipm\n",
      "adult:  121052.63157894737  ipm\n",
      "\n"
     ]
    }
   ],
   "source": [
    "verb_df = all_df[all_df['upos'] == 'VERB']\n",
    "for form in ['VerbForm=Fin', 'VerbForm=Inf']:\n",
    "    print(form)\n",
    "    for group in group_names:\n",
    "        group_df = verb_df[verb_df['group'] == group]\n",
    "        print(f'{group}: ',\n",
    "              len(group_df[group_df['feats'].apply(lambda x: form in x)])\n",
    "                         / len(group_df) * 10**6,\n",
    "              ' ipm')\n",
    "    print()"
   ]
  },
  {
   "cell_type": "markdown",
   "id": "62747787-982b-4beb-a401-2ff7ea2bf87e",
   "metadata": {},
   "source": [
    "### На ЭДЕ"
   ]
  },
  {
   "cell_type": "code",
   "execution_count": 151,
   "id": "0146633c-8ed1-4ab3-be56-33dc02088790",
   "metadata": {},
   "outputs": [
    {
     "data": {
      "text/plain": [
       "0       False\n",
       "1       False\n",
       "2       False\n",
       "3       False\n",
       "4       False\n",
       "        ...  \n",
       "2769    False\n",
       "2770    False\n",
       "2771    False\n",
       "2772    False\n",
       "2773    False\n",
       "Name: feats, Length: 11016, dtype: bool"
      ]
     },
     "execution_count": 151,
     "metadata": {},
     "output_type": "execute_result"
    }
   ],
   "source": [
    "all_df['feats'].apply(lambda x: 'VerbForm=Inf' in x)"
   ]
  },
  {
   "cell_type": "code",
   "execution_count": 148,
   "id": "942b4d88-2463-4896-a143-e60eecf9b4ed",
   "metadata": {},
   "outputs": [
    {
     "name": "stdout",
     "output_type": "stream",
     "text": [
      "369\n"
     ]
    },
    {
     "data": {
      "image/png": "[encoded data removed]",
      "text/plain": [
       "<Figure size 432x288 with 1 Axes>"
      ]
     },
     "metadata": {
      "needs_background": "light"
     },
     "output_type": "display_data"
    },
    {
     "name": "stdout",
     "output_type": "stream",
     "text": [
      "369\n"
     ]
    },
    {
     "data": {
      "image/png": "[encoded data removed]",
      "text/plain": [
       "<Figure size 432x288 with 1 Axes>"
      ]
     },
     "metadata": {
      "needs_background": "light"
     },
     "output_type": "display_data"
    }
   ],
   "source": [
    "verb_df = all_df[all_df['upos'] == 'VERB']\n",
    "for form in ['VerbForm=Fin', 'VerbForm=Inf']:\n",
    "    form_df = pd.DataFrame(all_df[all_df['feats'].apply(lambda x: form in x)].groupby(['segment_id', 'group']).size())\n",
    "    form_df = pos_df.reset_index()\n",
    "    print(len(form_df))\n",
    "    ax = sns.boxplot(x='group', y=0, data=form_df)\n",
    "    ax.set_title(f'{form}')\n",
    "    plt.show()"
   ]
  },
  {
   "cell_type": "code",
   "execution_count": 94,
   "id": "decb6029-1885-4cb7-aac5-ed1390ae5669",
   "metadata": {},
   "outputs": [
    {
     "name": "stdout",
     "output_type": "stream",
     "text": [
      "VerbForm=Fin\n",
      "bilingual: 3.905511811023622\n",
      "monolingual: 5.343065693430657\n",
      "adult: 3.196078431372549\n",
      "\n",
      "VerbForm=Inf\n",
      "bilingual: 1.2142857142857142\n",
      "monolingual: 1.5925925925925926\n",
      "adult: 1.15\n",
      "\n"
     ]
    }
   ],
   "source": [
    "for form in ['VerbForm=Fin', 'VerbForm=Inf']:\n",
    "    print(form)\n",
    "    for group in group_names:\n",
    "        group_df = all_df[all_df['group'] == group]\n",
    "        print(f\"{group}: {group_df[group_df['feats'].apply(lambda x: form in x)].groupby('segment_id').size().mean()}\")\n",
    "    print()"
   ]
  },
  {
   "cell_type": "markdown",
   "id": "3fa7c2a7-f50d-4135-82f2-d6065c23ce52",
   "metadata": {},
   "source": [
    "## Чередование времен"
   ]
  },
  {
   "cell_type": "code",
   "execution_count": 95,
   "id": "a42ea275-e81e-4740-8600-1cec26d5bcf5",
   "metadata": {},
   "outputs": [],
   "source": [
    "for group in group_names:\n",
    "    group_df = all_df[all_df['group'] == group]\n",
    "    tense_changes = []\n",
    "    curr_file = None\n",
    "    curr_tense = None\n",
    "    for i in group_df.iterrows():\n",
    "        if not curr_file:\n",
    "            curr_file = i[1]['file']\n",
    "        else:\n",
    "            pass"
   ]
  },
  {
   "cell_type": "code",
   "execution_count": 96,
   "id": "4586f599-2d11-4e3d-bbc9-7eb9cbfb7c5c",
   "metadata": {},
   "outputs": [
    {
     "data": {
      "text/html": [
       "<div>\n",
       "<style scoped>\n",
       "    .dataframe tbody tr th:only-of-type {\n",
       "        vertical-align: middle;\n",
       "    }\n",
       "\n",
       "    .dataframe tbody tr th {\n",
       "        vertical-align: top;\n",
       "    }\n",
       "\n",
       "    .dataframe thead th {\n",
       "        text-align: right;\n",
       "    }\n",
       "</style>\n",
       "<table border=\"1\" class=\"dataframe\">\n",
       "  <thead>\n",
       "    <tr style=\"text-align: right;\">\n",
       "      <th></th>\n",
       "      <th>id</th>\n",
       "      <th>word</th>\n",
       "      <th>lemma</th>\n",
       "      <th>upos</th>\n",
       "      <th>feats</th>\n",
       "      <th>head</th>\n",
       "      <th>deprel</th>\n",
       "      <th>segment_id</th>\n",
       "      <th>is_prompt</th>\n",
       "      <th>file</th>\n",
       "      <th>group</th>\n",
       "    </tr>\n",
       "  </thead>\n",
       "  <tbody>\n",
       "    <tr>\n",
       "      <th>0</th>\n",
       "      <td>1</td>\n",
       "      <td>эм</td>\n",
       "      <td>эма</td>\n",
       "      <td>PART</td>\n",
       "      <td>_</td>\n",
       "      <td>6</td>\n",
       "      <td>cc</td>\n",
       "      <td>1</td>\n",
       "      <td>0</td>\n",
       "      <td>edu_df/bilingual/Ger_f_5_E.csv</td>\n",
       "      <td>bilingual</td>\n",
       "    </tr>\n",
       "    <tr>\n",
       "      <th>1</th>\n",
       "      <td>2</td>\n",
       "      <td>там</td>\n",
       "      <td>там</td>\n",
       "      <td>ADV</td>\n",
       "      <td>Degree=Pos</td>\n",
       "      <td>6</td>\n",
       "      <td>advmod</td>\n",
       "      <td>1</td>\n",
       "      <td>0</td>\n",
       "      <td>edu_df/bilingual/Ger_f_5_E.csv</td>\n",
       "      <td>bilingual</td>\n",
       "    </tr>\n",
       "    <tr>\n",
       "      <th>2</th>\n",
       "      <td>3</td>\n",
       "      <td>эта</td>\n",
       "      <td>этот</td>\n",
       "      <td>DET</td>\n",
       "      <td>Case=Nom|Gender=Fem|Number=Sing</td>\n",
       "      <td>4</td>\n",
       "      <td>det</td>\n",
       "      <td>1</td>\n",
       "      <td>0</td>\n",
       "      <td>edu_df/bilingual/Ger_f_5_E.csv</td>\n",
       "      <td>bilingual</td>\n",
       "    </tr>\n",
       "    <tr>\n",
       "      <th>3</th>\n",
       "      <td>4</td>\n",
       "      <td>девочка</td>\n",
       "      <td>девочка</td>\n",
       "      <td>NOUN</td>\n",
       "      <td>Animacy=Anim|Case=Nom|Gender=Fem|Number=Sing</td>\n",
       "      <td>6</td>\n",
       "      <td>nsubj</td>\n",
       "      <td>1</td>\n",
       "      <td>0</td>\n",
       "      <td>edu_df/bilingual/Ger_f_5_E.csv</td>\n",
       "      <td>bilingual</td>\n",
       "    </tr>\n",
       "    <tr>\n",
       "      <th>4</th>\n",
       "      <td>5</td>\n",
       "      <td>от</td>\n",
       "      <td>от</td>\n",
       "      <td>ADP</td>\n",
       "      <td>_</td>\n",
       "      <td>6</td>\n",
       "      <td>case</td>\n",
       "      <td>1</td>\n",
       "      <td>0</td>\n",
       "      <td>edu_df/bilingual/Ger_f_5_E.csv</td>\n",
       "      <td>bilingual</td>\n",
       "    </tr>\n",
       "    <tr>\n",
       "      <th>...</th>\n",
       "      <td>...</td>\n",
       "      <td>...</td>\n",
       "      <td>...</td>\n",
       "      <td>...</td>\n",
       "      <td>...</td>\n",
       "      <td>...</td>\n",
       "      <td>...</td>\n",
       "      <td>...</td>\n",
       "      <td>...</td>\n",
       "      <td>...</td>\n",
       "      <td>...</td>\n",
       "    </tr>\n",
       "    <tr>\n",
       "      <th>2769</th>\n",
       "      <td>1</td>\n",
       "      <td>В</td>\n",
       "      <td>в</td>\n",
       "      <td>ADP</td>\n",
       "      <td>_</td>\n",
       "      <td>2</td>\n",
       "      <td>case</td>\n",
       "      <td>111</td>\n",
       "      <td>0</td>\n",
       "      <td>edu_df/adult/ad_mon_4.csv</td>\n",
       "      <td>adult</td>\n",
       "    </tr>\n",
       "    <tr>\n",
       "      <th>2770</th>\n",
       "      <td>2</td>\n",
       "      <td>сковородку</td>\n",
       "      <td>сковородка</td>\n",
       "      <td>NOUN</td>\n",
       "      <td>Animacy=Inan|Case=Acc|Gender=Fem|Number=Sing</td>\n",
       "      <td>3</td>\n",
       "      <td>obl</td>\n",
       "      <td>111</td>\n",
       "      <td>0</td>\n",
       "      <td>edu_df/adult/ad_mon_4.csv</td>\n",
       "      <td>adult</td>\n",
       "    </tr>\n",
       "    <tr>\n",
       "      <th>2771</th>\n",
       "      <td>3</td>\n",
       "      <td>высыпает</td>\n",
       "      <td>высыпать</td>\n",
       "      <td>VERB</td>\n",
       "      <td>Aspect=Imp|Mood=Ind|Number=Sing|Person=3|Tense...</td>\n",
       "      <td>0</td>\n",
       "      <td>root</td>\n",
       "      <td>111</td>\n",
       "      <td>0</td>\n",
       "      <td>edu_df/adult/ad_mon_4.csv</td>\n",
       "      <td>adult</td>\n",
       "    </tr>\n",
       "    <tr>\n",
       "      <th>2772</th>\n",
       "      <td>4</td>\n",
       "      <td>ягоды</td>\n",
       "      <td>ягода</td>\n",
       "      <td>NOUN</td>\n",
       "      <td>Animacy=Inan|Case=Acc|Gender=Fem|Number=Plur</td>\n",
       "      <td>3</td>\n",
       "      <td>obj</td>\n",
       "      <td>111</td>\n",
       "      <td>0</td>\n",
       "      <td>edu_df/adult/ad_mon_4.csv</td>\n",
       "      <td>adult</td>\n",
       "    </tr>\n",
       "    <tr>\n",
       "      <th>2773</th>\n",
       "      <td>5</td>\n",
       "      <td>.</td>\n",
       "      <td>.</td>\n",
       "      <td>PUNCT</td>\n",
       "      <td>_</td>\n",
       "      <td>3</td>\n",
       "      <td>punct</td>\n",
       "      <td>111</td>\n",
       "      <td>0</td>\n",
       "      <td>edu_df/adult/ad_mon_4.csv</td>\n",
       "      <td>adult</td>\n",
       "    </tr>\n",
       "  </tbody>\n",
       "</table>\n",
       "<p>11016 rows × 11 columns</p>\n",
       "</div>"
      ],
      "text/plain": [
       "      id        word       lemma   upos  \\\n",
       "0      1          эм         эма   PART   \n",
       "1      2         там         там    ADV   \n",
       "2      3         эта        этот    DET   \n",
       "3      4     девочка     девочка   NOUN   \n",
       "4      5          от          от    ADP   \n",
       "...   ..         ...         ...    ...   \n",
       "2769   1           В           в    ADP   \n",
       "2770   2  сковородку  сковородка   NOUN   \n",
       "2771   3    высыпает    высыпать   VERB   \n",
       "2772   4       ягоды       ягода   NOUN   \n",
       "2773   5           .           .  PUNCT   \n",
       "\n",
       "                                                  feats  head  deprel  \\\n",
       "0                                                     _     6      cc   \n",
       "1                                            Degree=Pos     6  advmod   \n",
       "2                       Case=Nom|Gender=Fem|Number=Sing     4     det   \n",
       "3          Animacy=Anim|Case=Nom|Gender=Fem|Number=Sing     6   nsubj   \n",
       "4                                                     _     6    case   \n",
       "...                                                 ...   ...     ...   \n",
       "2769                                                  _     2    case   \n",
       "2770       Animacy=Inan|Case=Acc|Gender=Fem|Number=Sing     3     obl   \n",
       "2771  Aspect=Imp|Mood=Ind|Number=Sing|Person=3|Tense...     0    root   \n",
       "2772       Animacy=Inan|Case=Acc|Gender=Fem|Number=Plur     3     obj   \n",
       "2773                                                  _     3   punct   \n",
       "\n",
       "      segment_id  is_prompt                            file      group  \n",
       "0              1          0  edu_df/bilingual/Ger_f_5_E.csv  bilingual  \n",
       "1              1          0  edu_df/bilingual/Ger_f_5_E.csv  bilingual  \n",
       "2              1          0  edu_df/bilingual/Ger_f_5_E.csv  bilingual  \n",
       "3              1          0  edu_df/bilingual/Ger_f_5_E.csv  bilingual  \n",
       "4              1          0  edu_df/bilingual/Ger_f_5_E.csv  bilingual  \n",
       "...          ...        ...                             ...        ...  \n",
       "2769         111          0       edu_df/adult/ad_mon_4.csv      adult  \n",
       "2770         111          0       edu_df/adult/ad_mon_4.csv      adult  \n",
       "2771         111          0       edu_df/adult/ad_mon_4.csv      adult  \n",
       "2772         111          0       edu_df/adult/ad_mon_4.csv      adult  \n",
       "2773         111          0       edu_df/adult/ad_mon_4.csv      adult  \n",
       "\n",
       "[11016 rows x 11 columns]"
      ]
     },
     "execution_count": 96,
     "metadata": {},
     "output_type": "execute_result"
    }
   ],
   "source": [
    "all_df"
   ]
  },
  {
   "cell_type": "markdown",
   "id": "02440651-c0aa-4b44-9cc4-cd8d9472a22d",
   "metadata": {},
   "source": [
    "## Риторические отношения"
   ]
  },
  {
   "cell_type": "code",
   "execution_count": 144,
   "id": "e741b31a-ab39-4285-8e04-e4daa5acde7e",
   "metadata": {},
   "outputs": [],
   "source": [
    "bi_df = filter_df(pd.read_csv('bilingual_rst.csv'))\n",
    "bi_df['group'] = 'bilingual'\n",
    "mono_df = filter_df(pd.read_csv('monolingual_rst.csv'))\n",
    "mono_df['group'] = 'monolingual'\n",
    "ad_df = filter_df(pd.read_csv('adult_rst.csv'))\n",
    "ad_df['group'] = 'adult'\n",
    "rst_df = pd.concat([bi_df, mono_df, ad_df])"
   ]
  },
  {
   "cell_type": "code",
   "execution_count": 145,
   "id": "359bf384-4e0f-4123-ba29-c8ff84780382",
   "metadata": {},
   "outputs": [
    {
     "name": "stdout",
     "output_type": "stream",
     "text": [
      "\n",
      "relname: sequence\n",
      "bilingual:  0.41818181818181815\n",
      "monolingual:  0.36875\n",
      "adult:  0.34\n",
      "\n",
      "relname: cause\n",
      "bilingual:  0.00909090909090909\n",
      "monolingual:  0.016666666666666666\n",
      "adult:  0.0\n",
      "\n",
      "relname: background\n",
      "bilingual:  0.007575757575757576\n",
      "monolingual:  0.004166666666666667\n",
      "adult:  0.017142857142857144\n",
      "\n",
      "relname: purpose\n",
      "bilingual:  0.0015151515151515152\n",
      "monolingual:  0.0\n",
      "adult:  0.011428571428571429\n",
      "\n",
      "relname: result\n",
      "bilingual:  0.004545454545454545\n",
      "monolingual:  0.0\n",
      "adult:  0.022857142857142857\n",
      "\n",
      "relname: elaboration\n",
      "bilingual:  0.025757575757575757\n",
      "monolingual:  0.008333333333333333\n",
      "adult:  0.05714285714285714\n",
      "\n",
      "relname: antithesis\n",
      "bilingual:  0.0015151515151515152\n",
      "monolingual:  0.0\n",
      "adult:  0.0\n",
      "\n",
      "relname: joint\n",
      "bilingual:  0.04090909090909091\n",
      "monolingual:  0.029166666666666667\n",
      "adult:  0.04285714285714286\n",
      "\n",
      "relname: span\n",
      "bilingual:  0.02878787878787879\n",
      "monolingual:  0.0125\n",
      "adult:  0.04285714285714286\n",
      "\n",
      "relname: motivation\n",
      "bilingual:  0.010606060606060607\n",
      "monolingual:  0.0020833333333333333\n",
      "adult:  0.0\n",
      "\n",
      "relname: evaluation\n",
      "bilingual:  0.0030303030303030303\n",
      "monolingual:  0.0\n",
      "adult:  0.0\n",
      "\n",
      "relname: preparation\n",
      "bilingual:  0.021212121212121213\n",
      "monolingual:  0.0020833333333333333\n",
      "adult:  0.014285714285714285\n",
      "\n",
      "relname: contrast\n",
      "bilingual:  0.0030303030303030303\n",
      "monolingual:  0.004166666666666667\n",
      "adult:  0.02\n",
      "\n",
      "relname: restatement\n",
      "bilingual:  0.0\n",
      "monolingual:  0.004166666666666667\n",
      "adult:  0.005714285714285714\n",
      "\n",
      "relname: condition\n",
      "bilingual:  0.0\n",
      "monolingual:  0.0020833333333333333\n",
      "adult:  0.002857142857142857\n",
      "\n",
      "relname: justify\n",
      "bilingual:  0.0\n",
      "monolingual:  0.0\n",
      "adult:  0.02\n",
      "\n"
     ]
    }
   ],
   "source": [
    "relnames = []\n",
    "for relname in rst_df['relname'].unique():\n",
    "    if isinstance(relname, str):\n",
    "        print(f'relname: {relname}')\n",
    "        for group in group_names:\n",
    "            group_df = rst_df[rst_df['group'] == group]\n",
    "            group_relname_df = rst_df[(rst_df['group'] == group) & (rst_df['relname'] == relname)]\n",
    "            relname_count = len(group_relname_df.groupby(['file', 'segment_id']))\n",
    "            relnames.append({'relname': relname, 'group': group})\n",
    "            print(f'{group}: ',\n",
    "                  relname / len(group_df.groupby(['file', 'segment_id'])))\n",
    "    print()"
   ]
  },
  {
   "cell_type": "code",
   "execution_count": null,
   "id": "f6e37a91-0466-446c-82ba-49df42aac4f6",
   "metadata": {},
   "outputs": [],
   "source": []
  }
 ],
 "metadata": {
  "kernelspec": {
   "display_name": "Python 3",
   "language": "python",
   "name": "python3"
  },
  "language_info": {
   "codemirror_mode": {
    "name": "ipython",
    "version": 3
   },
   "file_extension": ".py",
   "mimetype": "text/x-python",
   "name": "python",
   "nbconvert_exporter": "python",
   "pygments_lexer": "ipython3",
   "version": "3.8.6"
  },
  "toc-autonumbering": false
 },
 "nbformat": 4,
 "nbformat_minor": 5
}
