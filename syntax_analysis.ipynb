{
 "cells": [
  {
   "cell_type": "code",
   "execution_count": 33,
   "id": "871970c2-494d-42b0-85e6-c5b5d8e7d063",
   "metadata": {},
   "outputs": [],
   "source": [
    "import pandas as pd\n",
    "import seaborn as sns\n",
    "import matplotlib.pyplot as plt"
   ]
  },
  {
   "cell_type": "code",
   "execution_count": 71,
   "id": "9f83a602-2921-433d-aaaf-6644d6863499",
   "metadata": {},
   "outputs": [],
   "source": [
    "def filter_df(df):\n",
    "    df = df[df['is_prompt'] == 0]\n",
    "    return df"
   ]
  },
  {
   "cell_type": "code",
   "execution_count": 72,
   "id": "4caf06c7-8571-4756-8d2d-d8e1bae75773",
   "metadata": {},
   "outputs": [],
   "source": [
    "bi_df = filter_df(pd.read_csv('bilingual.csv'))\n",
    "bi_df['group'] = 'bilingual'\n",
    "mono_df = filter_df(pd.read_csv('monolingual.csv'))\n",
    "mono_df['group'] = 'monolingual'\n",
    "ad_df = filter_df(pd.read_csv('adult.csv'))\n",
    "ad_df['group'] = 'adult'\n",
    "all_df = pd.concat([bi_df, mono_df, ad_df])\n",
    "\n",
    "group_names = ['bilingual', 'monolingual', 'adult']"
   ]
  },
  {
   "cell_type": "markdown",
   "id": "8df91cb8-bb65-4618-838b-5cea34cfb12f",
   "metadata": {
    "tags": []
   },
   "source": [
    "## Средняя длина ЭДЕ (в токенах)"
   ]
  },
  {
   "cell_type": "markdown",
   "id": "d69a66af-01e8-4925-8c4d-f64a0dccc51c",
   "metadata": {
    "tags": []
   },
   "source": [
    "### Со знаками препинания"
   ]
  },
  {
   "cell_type": "code",
   "execution_count": 73,
   "id": "368d42a7-344d-4d8e-ab59-d77a89d37822",
   "metadata": {},
   "outputs": [
    {
     "data": {
      "image/png": "[encoded data removed]",
      "text/plain": [
       "<Figure size 360x360 with 1 Axes>"
      ]
     },
     "metadata": {
      "needs_background": "light"
     },
     "output_type": "display_data"
    }
   ],
   "source": [
    "edu_sizes = pd.DataFrame(all_df.groupby(['group', 'segment_id']).size())\n",
    "edu_sizes = edu_sizes.reset_index()\n",
    "\n",
    "sns.catplot(x='group', y=0, data=edu_sizes, kind='box');"
   ]
  },
  {
   "cell_type": "code",
   "execution_count": 75,
   "id": "7871dbf3-9f07-4af9-9dc4-76f8a608e29e",
   "metadata": {},
   "outputs": [
    {
     "name": "stdout",
     "output_type": "stream",
     "text": [
      "bilingual:\n",
      "25.636363636363637\n",
      "monolingual:\n",
      "31.71812080536913\n",
      "adult:\n",
      "22.304761904761904\n"
     ]
    }
   ],
   "source": [
    "for group in group_names:\n",
    "    group_df = all_df[all_df['group'] == group]\n",
    "    print(f'{group}:')\n",
    "    print(group_df.groupby('segment_id').size().mean())"
   ]
  },
  {
   "cell_type": "markdown",
   "id": "7f4f5b3c-2a55-482f-963c-9eab047a4fdb",
   "metadata": {},
   "source": [
    "### Без знаков препинания"
   ]
  },
  {
   "cell_type": "code",
   "execution_count": 14,
   "id": "b37aae73-634a-4a2e-9826-6174081ca78e",
   "metadata": {},
   "outputs": [],
   "source": [
    "all_df_no_punct = all_df[all_df['upos'].apply(lambda x: x not in ['PUNCT', 'X'])]"
   ]
  },
  {
   "cell_type": "code",
   "execution_count": 15,
   "id": "2e7431a3-c6bd-4189-9e40-426b62068741",
   "metadata": {},
   "outputs": [
    {
     "data": {
      "image/png": "[encoded data removed]",
      "text/plain": [
       "<Figure size 360x360 with 1 Axes>"
      ]
     },
     "metadata": {
      "needs_background": "light"
     },
     "output_type": "display_data"
    }
   ],
   "source": [
    "edu_sizes = pd.DataFrame(all_df_no_punct.groupby(['group', 'segment_id']).size())\n",
    "edu_sizes = edu_sizes.reset_index()\n",
    "\n",
    "sns.catplot(x='group', y=0, data=edu_sizes, kind='box');"
   ]
  },
  {
   "cell_type": "code",
   "execution_count": 17,
   "id": "22babae7-b02f-4052-b72c-a1b0654617da",
   "metadata": {},
   "outputs": [
    {
     "name": "stdout",
     "output_type": "stream",
     "text": [
      "bilingual:\n",
      "17.72027972027972\n",
      "monolingual:\n",
      "16.75\n",
      "adult:\n",
      "4.984615384615385\n"
     ]
    }
   ],
   "source": [
    "for group in group_names:\n",
    "    group_df = all_df[all_df['group'] == group]\n",
    "    group_df = group_df[group_df['upos'].apply(lambda x: x not in ['PUNCT', 'X'])]\n",
    "    print(f'{group}:')\n",
    "    print(group_df.groupby('segment_id').size().mean())"
   ]
  },
  {
   "cell_type": "markdown",
   "id": "224878b3-6a7c-4972-b568-22b197f8cd15",
   "metadata": {},
   "source": [
    "## Среднее количество ЭДЕ на текст"
   ]
  },
  {
   "cell_type": "code",
   "execution_count": 18,
   "id": "7d487520-191e-47dd-a762-26e8a1a4485d",
   "metadata": {},
   "outputs": [
    {
     "data": {
      "image/png": "[encoded data removed]",
      "text/plain": [
       "<Figure size 360x360 with 1 Axes>"
      ]
     },
     "metadata": {
      "needs_background": "light"
     },
     "output_type": "display_data"
    }
   ],
   "source": [
    "edu_counts = pd.DataFrame(all_df.groupby(['group', 'file']).size())\n",
    "edu_counts = edu_sizes.reset_index()\n",
    "\n",
    "sns.catplot(x='group', y=0, data=edu_counts, kind='box');"
   ]
  },
  {
   "cell_type": "code",
   "execution_count": 19,
   "id": "7ba88148-c46b-4c54-901e-46acb290621b",
   "metadata": {},
   "outputs": [
    {
     "name": "stdout",
     "output_type": "stream",
     "text": [
      "bilingual:\n",
      "356.0\n",
      "monolingual:\n",
      "188.14285714285714\n",
      "adult:\n",
      "86.4\n"
     ]
    }
   ],
   "source": [
    "for group in group_names:\n",
    "    group_df = all_df[all_df['group'] == group]\n",
    "    print(f'{group}:')\n",
    "    print(group_df.groupby('file').size().mean())"
   ]
  },
  {
   "cell_type": "markdown",
   "id": "3adc6904-0abc-4ba8-87b3-b9b6df37ee2b",
   "metadata": {},
   "source": [
    "## Частотность частей речи"
   ]
  },
  {
   "cell_type": "markdown",
   "id": "54979aed-8c6b-48d4-8032-e37c5152fff0",
   "metadata": {},
   "source": [
    "### На количество токенов"
   ]
  },
  {
   "cell_type": "code",
   "execution_count": 20,
   "id": "911fa69f-2d25-4d97-b583-819fb78432ee",
   "metadata": {},
   "outputs": [
    {
     "data": {
      "text/plain": [
       "array(['ADV', 'PUNCT', 'PRON', 'VERB', 'NOUN', 'DET', 'PART', 'INTJ',\n",
       "       'CCONJ', 'PROPN', 'ADP', 'ADJ', 'NUM', 'AUX', 'SYM', 'X', 'SCONJ'],\n",
       "      dtype=object)"
      ]
     },
     "execution_count": 20,
     "metadata": {},
     "output_type": "execute_result"
    }
   ],
   "source": [
    "all_df['upos'].unique()"
   ]
  },
  {
   "cell_type": "code",
   "execution_count": 51,
   "id": "2aae505f-ed0f-4861-b5b2-03e0c19421d5",
   "metadata": {},
   "outputs": [
    {
     "name": "stdout",
     "output_type": "stream",
     "text": [
      "ADJ\n",
      "bilingual:  39606.7415730337  ipm\n",
      "monolingual:  9870.918754745633  ipm\n",
      "adult:  9259.25925925926  ipm\n",
      "\n",
      "CCONJ\n",
      "bilingual:  40449.43820224719  ipm\n",
      "monolingual:  7593.014426727411  ipm\n",
      "adult:  9259.25925925926  ipm\n",
      "\n",
      "SCONJ\n",
      "bilingual:  6179.775280898876  ipm\n",
      "monolingual:  6454.062262718299  ipm\n",
      "adult:  4629.62962962963  ipm\n",
      "\n",
      "PART\n",
      "bilingual:  55337.07865168539  ipm\n",
      "monolingual:  33788.91419893698  ipm\n",
      "adult:  20833.333333333332  ipm\n",
      "\n",
      "NOUN\n",
      "bilingual:  107865.16853932585  ipm\n",
      "monolingual:  144646.92482915716  ipm\n",
      "adult:  166666.66666666666  ipm\n",
      "\n",
      "VERB\n",
      "bilingual:  141292.13483146066  ipm\n",
      "monolingual:  175018.98253606682  ipm\n",
      "adult:  229166.66666666666  ipm\n",
      "\n"
     ]
    }
   ],
   "source": [
    "for pos in ['ADJ', 'CCONJ', 'SCONJ', 'PART', 'NOUN', 'VERB']:\n",
    "    print(pos)\n",
    "    for group in group_names:\n",
    "        group_df = all_df[all_df['group'] == group]\n",
    "        print(f'{group}: ',\n",
    "            len(group_df[group_df['upos'] == pos]) / len(group_df) * 10**6,\n",
    "              ' ipm')\n",
    "    print()"
   ]
  },
  {
   "cell_type": "markdown",
   "id": "dd9fabce-1450-4241-8d4d-4d05937528f6",
   "metadata": {},
   "source": [
    "### На ЭДЕ"
   ]
  },
  {
   "cell_type": "code",
   "execution_count": 52,
   "id": "864216b7-0e27-4361-9878-ed21b97967ba",
   "metadata": {},
   "outputs": [
    {
     "data": {
      "image/png": "[encoded data removed]",
      "text/plain": [
       "<Figure size 432x288 with 1 Axes>"
      ]
     },
     "metadata": {
      "needs_background": "light"
     },
     "output_type": "display_data"
    },
    {
     "data": {
      "image/png": "[encoded data removed]",
      "text/plain": [
       "<Figure size 432x288 with 1 Axes>"
      ]
     },
     "metadata": {
      "needs_background": "light"
     },
     "output_type": "display_data"
    },
    {
     "data": {
      "image/png": "[encoded data removed]",
      "text/plain": [
       "<Figure size 432x288 with 1 Axes>"
      ]
     },
     "metadata": {
      "needs_background": "light"
     },
     "output_type": "display_data"
    },
    {
     "data": {
      "image/png": "[encoded data removed]",
      "text/plain": [
       "<Figure size 432x288 with 1 Axes>"
      ]
     },
     "metadata": {
      "needs_background": "light"
     },
     "output_type": "display_data"
    },
    {
     "data": {
      "image/png": "[encoded data removed]",
      "text/plain": [
       "<Figure size 432x288 with 1 Axes>"
      ]
     },
     "metadata": {
      "needs_background": "light"
     },
     "output_type": "display_data"
    },
    {
     "data": {
      "image/png": "[encoded data removed]",
      "text/plain": [
       "<Figure size 432x288 with 1 Axes>"
      ]
     },
     "metadata": {
      "needs_background": "light"
     },
     "output_type": "display_data"
    }
   ],
   "source": [
    "for pos in ['ADJ', 'CCONJ', 'SCONJ', 'PART', 'NOUN', 'VERB']:\n",
    "    pos_df = pd.DataFrame(all_df[all_df['upos'] == pos].groupby(['segment_id', 'group']).size())\n",
    "    pos_df = pos_df.reset_index()\n",
    "    ax = sns.boxplot(x='group', y=0, data=pos_df)\n",
    "    ax.set_title(f'{pos}')\n",
    "    plt.show()"
   ]
  },
  {
   "cell_type": "code",
   "execution_count": 53,
   "id": "44ca250f-c89f-42ac-b4c1-c5a42f2ad8f9",
   "metadata": {},
   "outputs": [
    {
     "name": "stdout",
     "output_type": "stream",
     "text": [
      "ADJ\n",
      "bilingual: 1.9583333333333333\n",
      "monolingual: 1.2380952380952381\n",
      "adult: 1.0\n",
      "\n",
      "CCONJ\n",
      "bilingual: 1.7349397590361446\n",
      "monolingual: 1.0526315789473684\n",
      "adult: 2.0\n",
      "\n",
      "SCONJ\n",
      "bilingual: 1.2222222222222223\n",
      "monolingual: 1.0625\n",
      "adult: 1.0\n",
      "\n",
      "PART\n",
      "bilingual: 2.2906976744186047\n",
      "monolingual: 1.459016393442623\n",
      "adult: 1.8\n",
      "\n",
      "NOUN\n",
      "bilingual: 3.310344827586207\n",
      "monolingual: 3.8877551020408165\n",
      "adult: 1.6744186046511629\n",
      "\n",
      "VERB\n",
      "bilingual: 4.0894308943089435\n",
      "monolingual: 4.349056603773585\n",
      "adult: 1.5714285714285714\n",
      "\n"
     ]
    }
   ],
   "source": [
    "for pos in ['ADJ', 'CCONJ', 'SCONJ', 'PART', 'NOUN', 'VERB']:\n",
    "    print(pos)\n",
    "    for group in group_names:\n",
    "        group_df = all_df[all_df['group'] == group]\n",
    "        print(f\"{group}: {group_df[group_df['upos'] == pos].groupby('segment_id').size().mean()}\")\n",
    "    print()"
   ]
  },
  {
   "cell_type": "markdown",
   "id": "f20bd74b-aa60-42f8-bacd-0a70cdc894c2",
   "metadata": {},
   "source": [
    "## Частотность нефинитных форм"
   ]
  },
  {
   "cell_type": "markdown",
   "id": "87a1e6ca-0212-4d9c-8a6b-7e7dacc11439",
   "metadata": {},
   "source": [
    "### На количество токенов"
   ]
  },
  {
   "cell_type": "code",
   "execution_count": 131,
   "id": "623b3a16-1952-4de2-acac-d80c9b7100a1",
   "metadata": {},
   "outputs": [
    {
     "name": "stdout",
     "output_type": "stream",
     "text": [
      "VerbForm=Fin\n",
      "bilingual:  937198.0676328503  ipm\n",
      "monolingual:  925816.0237388724  ipm\n",
      "adult:  943396.2264150943  ipm\n",
      "\n",
      "VerbForm=Inf\n",
      "bilingual:  55555.555555555555  ipm\n",
      "monolingual:  71216.6172106825  ipm\n",
      "adult:  47169.81132075472  ipm\n",
      "\n"
     ]
    }
   ],
   "source": [
    "verb_df = all_df[all_df['upos'] == 'VERB']\n",
    "for form in ['VerbForm=Fin', 'VerbForm=Inf']:\n",
    "    print(form)\n",
    "    for group in group_names:\n",
    "        group_df = verb_df[verb_df['group'] == group]\n",
    "        print(f'{group}: ',\n",
    "              len(group_df[group_df['feats'].apply(lambda x: form in x)])\n",
    "                         / len(group_df) * 10**6,\n",
    "              ' ipm')\n",
    "    print()"
   ]
  },
  {
   "cell_type": "markdown",
   "id": "62747787-982b-4beb-a401-2ff7ea2bf87e",
   "metadata": {},
   "source": [
    "### На ЭДЕ"
   ]
  },
  {
   "cell_type": "code",
   "execution_count": 47,
   "id": "942b4d88-2463-4896-a143-e60eecf9b4ed",
   "metadata": {},
   "outputs": [
    {
     "data": {
      "image/png": "[encoded data removed]",
      "text/plain": [
       "<Figure size 432x288 with 1 Axes>"
      ]
     },
     "metadata": {
      "needs_background": "light"
     },
     "output_type": "display_data"
    },
    {
     "data": {
      "image/png": "[encoded data removed]",
      "text/plain": [
       "<Figure size 432x288 with 1 Axes>"
      ]
     },
     "metadata": {
      "needs_background": "light"
     },
     "output_type": "display_data"
    }
   ],
   "source": [
    "verb_df = all_df[all_df['upos'] == 'VERB']\n",
    "for form in ['VerbForm=Fin', 'VerbForm=Inf']:\n",
    "    form_df = pd.DataFrame(all_df[all_df['feats'].apply(lambda x: form in x)].groupby(['segment_id', 'group']).size())\n",
    "    form_df = pos_df.reset_index()\n",
    "    ax = sns.boxplot(x='group', y=0, data=form_df)\n",
    "    ax.set_title(f'{form}')\n",
    "    plt.show()"
   ]
  },
  {
   "cell_type": "code",
   "execution_count": 50,
   "id": "decb6029-1885-4cb7-aac5-ed1390ae5669",
   "metadata": {},
   "outputs": [
    {
     "name": "stdout",
     "output_type": "stream",
     "text": [
      "VerbForm=Fin\n",
      "bilingual: 3.894308943089431\n",
      "monolingual: 4.142857142857143\n",
      "adult: 1.507936507936508\n",
      "\n",
      "VerbForm=Inf\n",
      "bilingual: 1.2272727272727273\n",
      "monolingual: 2.1904761904761907\n",
      "adult: 1.25\n",
      "\n"
     ]
    }
   ],
   "source": [
    "for form in ['VerbForm=Fin', 'VerbForm=Inf']:\n",
    "    print(form)\n",
    "    for group in group_names:\n",
    "        group_df = all_df[all_df['group'] == group]\n",
    "        print(f\"{group}: {group_df[group_df['feats'].apply(lambda x: form in x)].groupby('segment_id').size().mean()}\")\n",
    "    print()"
   ]
  },
  {
   "cell_type": "markdown",
   "id": "3fa7c2a7-f50d-4135-82f2-d6065c23ce52",
   "metadata": {},
   "source": [
    "## Чередование времен"
   ]
  },
  {
   "cell_type": "code",
   "execution_count": 149,
   "id": "a42ea275-e81e-4740-8600-1cec26d5bcf5",
   "metadata": {},
   "outputs": [],
   "source": [
    "for group in group_names:\n",
    "    group_df = all_df[all_df['group'] == group]\n",
    "    tense_changes = []\n",
    "    curr_file = None\n",
    "    curr_tense = None\n",
    "    for i in group_df.iterrows():\n",
    "        if not curr_file:\n",
    "            curr_file = i[1]['file']\n",
    "        else:\n",
    "            pass"
   ]
  },
  {
   "cell_type": "code",
   "execution_count": 147,
   "id": "4586f599-2d11-4e3d-bbc9-7eb9cbfb7c5c",
   "metadata": {},
   "outputs": [
    {
     "data": {
      "text/html": [
       "<div>\n",
       "<style scoped>\n",
       "    .dataframe tbody tr th:only-of-type {\n",
       "        vertical-align: middle;\n",
       "    }\n",
       "\n",
       "    .dataframe tbody tr th {\n",
       "        vertical-align: top;\n",
       "    }\n",
       "\n",
       "    .dataframe thead th {\n",
       "        text-align: right;\n",
       "    }\n",
       "</style>\n",
       "<table border=\"1\" class=\"dataframe\">\n",
       "  <thead>\n",
       "    <tr style=\"text-align: right;\">\n",
       "      <th></th>\n",
       "      <th>id</th>\n",
       "      <th>word</th>\n",
       "      <th>lemma</th>\n",
       "      <th>upos</th>\n",
       "      <th>feats</th>\n",
       "      <th>head</th>\n",
       "      <th>deprel</th>\n",
       "      <th>segment_id</th>\n",
       "      <th>is_prompt</th>\n",
       "      <th>file</th>\n",
       "      <th>group</th>\n",
       "      <th>is_tense_change</th>\n",
       "      <th>asdf</th>\n",
       "    </tr>\n",
       "  </thead>\n",
       "  <tbody>\n",
       "    <tr>\n",
       "      <td>7</td>\n",
       "      <td>1</td>\n",
       "      <td>так</td>\n",
       "      <td>так</td>\n",
       "      <td>ADV</td>\n",
       "      <td>Degree=Pos</td>\n",
       "      <td>0</td>\n",
       "      <td>root</td>\n",
       "      <td>2</td>\n",
       "      <td>1</td>\n",
       "      <td>edu_df/bilingual/Ger_f_5_E.csv</td>\n",
       "      <td>bilingual</td>\n",
       "      <td>0</td>\n",
       "      <td>1</td>\n",
       "    </tr>\n",
       "    <tr>\n",
       "      <td>8</td>\n",
       "      <td>2</td>\n",
       "      <td>.</td>\n",
       "      <td>.</td>\n",
       "      <td>PUNCT</td>\n",
       "      <td>_</td>\n",
       "      <td>6</td>\n",
       "      <td>punct</td>\n",
       "      <td>2</td>\n",
       "      <td>1</td>\n",
       "      <td>edu_df/bilingual/Ger_f_5_E.csv</td>\n",
       "      <td>bilingual</td>\n",
       "      <td>0</td>\n",
       "      <td>1</td>\n",
       "    </tr>\n",
       "    <tr>\n",
       "      <td>9</td>\n",
       "      <td>3</td>\n",
       "      <td>еще</td>\n",
       "      <td>ещё</td>\n",
       "      <td>ADV</td>\n",
       "      <td>Degree=Pos</td>\n",
       "      <td>6</td>\n",
       "      <td>advmod</td>\n",
       "      <td>2</td>\n",
       "      <td>1</td>\n",
       "      <td>edu_df/bilingual/Ger_f_5_E.csv</td>\n",
       "      <td>bilingual</td>\n",
       "      <td>0</td>\n",
       "      <td>1</td>\n",
       "    </tr>\n",
       "    <tr>\n",
       "      <td>10</td>\n",
       "      <td>4</td>\n",
       "      <td>что-нибудь</td>\n",
       "      <td>что-нибудь</td>\n",
       "      <td>PRON</td>\n",
       "      <td>Case=Nom</td>\n",
       "      <td>6</td>\n",
       "      <td>nsubj</td>\n",
       "      <td>2</td>\n",
       "      <td>1</td>\n",
       "      <td>edu_df/bilingual/Ger_f_5_E.csv</td>\n",
       "      <td>bilingual</td>\n",
       "      <td>0</td>\n",
       "      <td>1</td>\n",
       "    </tr>\n",
       "    <tr>\n",
       "      <td>11</td>\n",
       "      <td>5</td>\n",
       "      <td>там</td>\n",
       "      <td>там</td>\n",
       "      <td>ADV</td>\n",
       "      <td>Degree=Pos</td>\n",
       "      <td>6</td>\n",
       "      <td>advmod</td>\n",
       "      <td>2</td>\n",
       "      <td>1</td>\n",
       "      <td>edu_df/bilingual/Ger_f_5_E.csv</td>\n",
       "      <td>bilingual</td>\n",
       "      <td>0</td>\n",
       "      <td>1</td>\n",
       "    </tr>\n",
       "    <tr>\n",
       "      <td>...</td>\n",
       "      <td>...</td>\n",
       "      <td>...</td>\n",
       "      <td>...</td>\n",
       "      <td>...</td>\n",
       "      <td>...</td>\n",
       "      <td>...</td>\n",
       "      <td>...</td>\n",
       "      <td>...</td>\n",
       "      <td>...</td>\n",
       "      <td>...</td>\n",
       "      <td>...</td>\n",
       "      <td>...</td>\n",
       "      <td>...</td>\n",
       "    </tr>\n",
       "    <tr>\n",
       "      <td>2139</td>\n",
       "      <td>2</td>\n",
       "      <td>емкость</td>\n",
       "      <td>ёмкость</td>\n",
       "      <td>NOUN</td>\n",
       "      <td>Animacy=Inan|Case=Acc|Gender=Fem|Number=Sing</td>\n",
       "      <td>0</td>\n",
       "      <td>root</td>\n",
       "      <td>77</td>\n",
       "      <td>1</td>\n",
       "      <td>edu_df/adult/ad_mon_2.csv</td>\n",
       "      <td>adult</td>\n",
       "      <td>0</td>\n",
       "      <td>1</td>\n",
       "    </tr>\n",
       "    <tr>\n",
       "      <td>2140</td>\n",
       "      <td>3</td>\n",
       "      <td>для</td>\n",
       "      <td>для</td>\n",
       "      <td>ADP</td>\n",
       "      <td>_</td>\n",
       "      <td>4</td>\n",
       "      <td>case</td>\n",
       "      <td>77</td>\n",
       "      <td>1</td>\n",
       "      <td>edu_df/adult/ad_mon_2.csv</td>\n",
       "      <td>adult</td>\n",
       "      <td>0</td>\n",
       "      <td>1</td>\n",
       "    </tr>\n",
       "    <tr>\n",
       "      <td>2141</td>\n",
       "      <td>4</td>\n",
       "      <td>приготовления</td>\n",
       "      <td>приготовление</td>\n",
       "      <td>NOUN</td>\n",
       "      <td>Animacy=Inan|Case=Gen|Gender=Neut|Number=Sing</td>\n",
       "      <td>2</td>\n",
       "      <td>nmod</td>\n",
       "      <td>77</td>\n",
       "      <td>1</td>\n",
       "      <td>edu_df/adult/ad_mon_2.csv</td>\n",
       "      <td>adult</td>\n",
       "      <td>0</td>\n",
       "      <td>1</td>\n",
       "    </tr>\n",
       "    <tr>\n",
       "      <td>2142</td>\n",
       "      <td>5</td>\n",
       "      <td>варенья</td>\n",
       "      <td>варение</td>\n",
       "      <td>NOUN</td>\n",
       "      <td>Animacy=Inan|Case=Gen|Gender=Neut|Number=Sing</td>\n",
       "      <td>4</td>\n",
       "      <td>nmod</td>\n",
       "      <td>77</td>\n",
       "      <td>1</td>\n",
       "      <td>edu_df/adult/ad_mon_2.csv</td>\n",
       "      <td>adult</td>\n",
       "      <td>0</td>\n",
       "      <td>1</td>\n",
       "    </tr>\n",
       "    <tr>\n",
       "      <td>2143</td>\n",
       "      <td>6</td>\n",
       "      <td>.</td>\n",
       "      <td>.</td>\n",
       "      <td>PUNCT</td>\n",
       "      <td>_</td>\n",
       "      <td>2</td>\n",
       "      <td>punct</td>\n",
       "      <td>77</td>\n",
       "      <td>1</td>\n",
       "      <td>edu_df/adult/ad_mon_2.csv</td>\n",
       "      <td>adult</td>\n",
       "      <td>0</td>\n",
       "      <td>1</td>\n",
       "    </tr>\n",
       "  </tbody>\n",
       "</table>\n",
       "<p>5402 rows × 13 columns</p>\n",
       "</div>"
      ],
      "text/plain": [
       "      id           word          lemma   upos  \\\n",
       "7      1            так            так    ADV   \n",
       "8      2              .              .  PUNCT   \n",
       "9      3            еще            ещё    ADV   \n",
       "10     4     что-нибудь     что-нибудь   PRON   \n",
       "11     5            там            там    ADV   \n",
       "...   ..            ...            ...    ...   \n",
       "2139   2        емкость        ёмкость   NOUN   \n",
       "2140   3            для            для    ADP   \n",
       "2141   4  приготовления  приготовление   NOUN   \n",
       "2142   5        варенья        варение   NOUN   \n",
       "2143   6              .              .  PUNCT   \n",
       "\n",
       "                                              feats  head  deprel  segment_id  \\\n",
       "7                                        Degree=Pos     0    root           2   \n",
       "8                                                 _     6   punct           2   \n",
       "9                                        Degree=Pos     6  advmod           2   \n",
       "10                                         Case=Nom     6   nsubj           2   \n",
       "11                                       Degree=Pos     6  advmod           2   \n",
       "...                                             ...   ...     ...         ...   \n",
       "2139   Animacy=Inan|Case=Acc|Gender=Fem|Number=Sing     0    root          77   \n",
       "2140                                              _     4    case          77   \n",
       "2141  Animacy=Inan|Case=Gen|Gender=Neut|Number=Sing     2    nmod          77   \n",
       "2142  Animacy=Inan|Case=Gen|Gender=Neut|Number=Sing     4    nmod          77   \n",
       "2143                                              _     2   punct          77   \n",
       "\n",
       "      is_prompt                            file      group  is_tense_change  \\\n",
       "7             1  edu_df/bilingual/Ger_f_5_E.csv  bilingual                0   \n",
       "8             1  edu_df/bilingual/Ger_f_5_E.csv  bilingual                0   \n",
       "9             1  edu_df/bilingual/Ger_f_5_E.csv  bilingual                0   \n",
       "10            1  edu_df/bilingual/Ger_f_5_E.csv  bilingual                0   \n",
       "11            1  edu_df/bilingual/Ger_f_5_E.csv  bilingual                0   \n",
       "...         ...                             ...        ...              ...   \n",
       "2139          1       edu_df/adult/ad_mon_2.csv      adult                0   \n",
       "2140          1       edu_df/adult/ad_mon_2.csv      adult                0   \n",
       "2141          1       edu_df/adult/ad_mon_2.csv      adult                0   \n",
       "2142          1       edu_df/adult/ad_mon_2.csv      adult                0   \n",
       "2143          1       edu_df/adult/ad_mon_2.csv      adult                0   \n",
       "\n",
       "      asdf  \n",
       "7        1  \n",
       "8        1  \n",
       "9        1  \n",
       "10       1  \n",
       "11       1  \n",
       "...    ...  \n",
       "2139     1  \n",
       "2140     1  \n",
       "2141     1  \n",
       "2142     1  \n",
       "2143     1  \n",
       "\n",
       "[5402 rows x 13 columns]"
      ]
     },
     "execution_count": 147,
     "metadata": {},
     "output_type": "execute_result"
    }
   ],
   "source": [
    "all_df"
   ]
  },
  {
   "cell_type": "markdown",
   "id": "02440651-c0aa-4b44-9cc4-cd8d9472a22d",
   "metadata": {},
   "source": [
    "## Риторические отношения"
   ]
  },
  {
   "cell_type": "code",
   "execution_count": 54,
   "id": "e741b31a-ab39-4285-8e04-e4daa5acde7e",
   "metadata": {},
   "outputs": [],
   "source": [
    "bi_df = filter_df(pd.read_csv('bilingual_rst.csv'))\n",
    "bi_df['group'] = 'bilingual'\n",
    "mono_df = filter_df(pd.read_csv('monolingual_rst.csv'))\n",
    "mono_df['group'] = 'monolingual'\n",
    "ad_df = filter_df(pd.read_csv('adult_rst.csv'))\n",
    "ad_df['group'] = 'adult'\n",
    "rst_df = pd.concat([bi_df, mono_df, ad_df])"
   ]
  },
  {
   "cell_type": "code",
   "execution_count": 70,
   "id": "57aa3a9a-462d-4d12-b5c7-f4719cc3b108",
   "metadata": {},
   "outputs": [
    {
     "data": {
      "text/plain": [
       "array([nan, 'background', 'sequence', 'span', 'result', 'justify',\n",
       "       'contrast', 'elaboration', 'preparation', 'joint', 'condition',\n",
       "       'purpose', 'restatement'], dtype=object)"
      ]
     },
     "execution_count": 70,
     "metadata": {},
     "output_type": "execute_result"
    }
   ],
   "source": [
    "pd.read_csv('adult_rst.csv')['relname'].unique()"
   ]
  }
 ],
 "metadata": {
  "kernelspec": {
   "display_name": "Python 3",
   "language": "python",
   "name": "python3"
  },
  "language_info": {
   "codemirror_mode": {
    "name": "ipython",
    "version": 3
   },
   "file_extension": ".py",
   "mimetype": "text/x-python",
   "name": "python",
   "nbconvert_exporter": "python",
   "pygments_lexer": "ipython3",
   "version": "3.8.6"
  },
  "toc-autonumbering": false
 },
 "nbformat": 4,
 "nbformat_minor": 5
}
