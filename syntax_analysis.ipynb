{
 "cells": [
  {
   "cell_type": "code",
   "execution_count": 64,
   "id": "871970c2-494d-42b0-85e6-c5b5d8e7d063",
   "metadata": {},
   "outputs": [],
   "source": [
    "import pandas as pd\n",
    "import seaborn as sns"
   ]
  },
  {
   "cell_type": "code",
   "execution_count": 44,
   "id": "9f83a602-2921-433d-aaaf-6644d6863499",
   "metadata": {},
   "outputs": [],
   "source": [
    "def filter_df(df):\n",
    "    df = df[df['is_prompt'] == 1]\n",
    "    return df"
   ]
  },
  {
   "cell_type": "code",
   "execution_count": 96,
   "id": "4caf06c7-8571-4756-8d2d-d8e1bae75773",
   "metadata": {},
   "outputs": [],
   "source": [
    "bi_df = filter_df(pd.read_csv('bilingual.csv'))\n",
    "bi_df['group'] = 'bilingual'\n",
    "mono_df = filter_df(pd.read_csv('monolingual.csv'))\n",
    "mono_df['group'] = 'monolingual'\n",
    "ad_df = filter_df(pd.read_csv('adult.csv'))\n",
    "ad_df['group'] = 'adult'\n",
    "all_df = pd.concat([bi_df, mono_df, ad_df])\n",
    "\n",
    "group_names = ['bilingual', 'monolingual', 'adult']"
   ]
  },
  {
   "cell_type": "markdown",
   "id": "8df91cb8-bb65-4618-838b-5cea34cfb12f",
   "metadata": {
    "tags": []
   },
   "source": [
    "## Средняя длина ЭДЕ (в токенах)"
   ]
  },
  {
   "cell_type": "markdown",
   "id": "d69a66af-01e8-4925-8c4d-f64a0dccc51c",
   "metadata": {
    "tags": []
   },
   "source": [
    "## Со знаками препинания"
   ]
  },
  {
   "cell_type": "code",
   "execution_count": 85,
   "id": "368d42a7-344d-4d8e-ab59-d77a89d37822",
   "metadata": {},
   "outputs": [
    {
     "data": {
      "image/png": "[encoded data removed]",
      "text/plain": [
       "<Figure size 360x360 with 1 Axes>"
      ]
     },
     "metadata": {
      "needs_background": "light"
     },
     "output_type": "display_data"
    }
   ],
   "source": [
    "edu_sizes = pd.DataFrame(all_df.groupby(['group', 'segment_id']).size())\n",
    "edu_sizes = edu_sizes.reset_index()\n",
    "\n",
    "sns.catplot(x='group', y=0, data=edu_sizes, kind='box');"
   ]
  },
  {
   "cell_type": "code",
   "execution_count": 49,
   "id": "7871dbf3-9f07-4af9-9dc4-76f8a608e29e",
   "metadata": {},
   "outputs": [
    {
     "name": "stdout",
     "output_type": "stream",
     "text": [
      "Группа:  edu_df/bilingual/Ger_f_5_E.csv\n",
      "20.435714285714287\n",
      "Группа:  edu_df/monolingual/10mon.csv\n",
      "20.125\n",
      "Группа:  edu_df/adult/ad_mon3.csv\n",
      "8.7\n"
     ]
    }
   ],
   "source": [
    "for df in groups:\n",
    "    print('Группа: ', df['file'].iloc[0])\n",
    "    print(df.groupby('segment_id').size().mean())"
   ]
  },
  {
   "cell_type": "markdown",
   "id": "7f4f5b3c-2a55-482f-963c-9eab047a4fdb",
   "metadata": {},
   "source": [
    "## Без знаков препинания"
   ]
  },
  {
   "cell_type": "code",
   "execution_count": 89,
   "id": "b37aae73-634a-4a2e-9826-6174081ca78e",
   "metadata": {},
   "outputs": [],
   "source": [
    "all_df_no_punct = all_df[all_df['upos'].apply(lambda x: x not in ['PUNCT', 'X'])]"
   ]
  },
  {
   "cell_type": "code",
   "execution_count": 90,
   "id": "2e7431a3-c6bd-4189-9e40-426b62068741",
   "metadata": {},
   "outputs": [
    {
     "data": {
      "image/png": "[encoded data removed]",
      "text/plain": [
       "<Figure size 360x360 with 1 Axes>"
      ]
     },
     "metadata": {
      "needs_background": "light"
     },
     "output_type": "display_data"
    }
   ],
   "source": [
    "edu_sizes = pd.DataFrame(all_df_no_punct.groupby(['group', 'segment_id']).size())\n",
    "edu_sizes = edu_sizes.reset_index()\n",
    "\n",
    "sns.catplot(x='group', y=0, data=edu_sizes, kind='box');"
   ]
  },
  {
   "cell_type": "code",
   "execution_count": 58,
   "id": "22babae7-b02f-4052-b72c-a1b0654617da",
   "metadata": {},
   "outputs": [
    {
     "name": "stdout",
     "output_type": "stream",
     "text": [
      "Группа:  edu_df/bilingual/Ger_f_5_E.csv\n",
      "14.628571428571428\n",
      "Группа:  edu_df/monolingual/10mon.csv\n",
      "14.791666666666666\n",
      "Группа:  edu_df/adult/ad_mon3.csv\n",
      "6.3428571428571425\n"
     ]
    }
   ],
   "source": [
    "for df in groups:\n",
    "    print('Группа: ', df['file'].iloc[0])\n",
    "    df = df[df['upos'].apply(lambda x: x not in ['PUNCT', 'X'])]\n",
    "    print(df.groupby('segment_id').size().mean())"
   ]
  },
  {
   "cell_type": "markdown",
   "id": "224878b3-6a7c-4972-b568-22b197f8cd15",
   "metadata": {},
   "source": [
    "## Среднее количество ЭДЕ на текст"
   ]
  },
  {
   "cell_type": "code",
   "execution_count": 93,
   "id": "7d487520-191e-47dd-a762-26e8a1a4485d",
   "metadata": {},
   "outputs": [
    {
     "data": {
      "image/png": "[encoded data removed]",
      "text/plain": [
       "<Figure size 360x360 with 1 Axes>"
      ]
     },
     "metadata": {
      "needs_background": "light"
     },
     "output_type": "display_data"
    }
   ],
   "source": [
    "edu_counts = pd.DataFrame(all_df.groupby(['group', 'file']).size())\n",
    "edu_counts = edu_sizes.reset_index()\n",
    "\n",
    "sns.catplot(x='group', y=0, data=edu_counts, kind='box');"
   ]
  },
  {
   "cell_type": "code",
   "execution_count": 62,
   "id": "7ba88148-c46b-4c54-901e-46acb290621b",
   "metadata": {},
   "outputs": [
    {
     "name": "stdout",
     "output_type": "stream",
     "text": [
      "Группа:  edu_df/bilingual/Ger_f_5_E.csv\n",
      "317.8888888888889\n",
      "Группа:  edu_df/monolingual/10mon.csv\n",
      "161.0\n",
      "Группа:  edu_df/adult/ad_mon3.csv\n",
      "152.25\n"
     ]
    }
   ],
   "source": [
    "for df in groups:\n",
    "    print('Группа: ', df['file'].iloc[0])\n",
    "    print(df.groupby('file').size().mean())"
   ]
  },
  {
   "cell_type": "markdown",
   "id": "3adc6904-0abc-4ba8-87b3-b9b6df37ee2b",
   "metadata": {},
   "source": [
    "## Частотность частей речи"
   ]
  },
  {
   "cell_type": "code",
   "execution_count": 95,
   "id": "911fa69f-2d25-4d97-b583-819fb78432ee",
   "metadata": {},
   "outputs": [
    {
     "data": {
      "text/plain": [
       "array(['ADV', 'PUNCT', 'PRON', 'VERB', 'NOUN', 'DET', 'PART', 'INTJ',\n",
       "       'CCONJ', 'PROPN', 'ADP', 'ADJ', 'NUM', 'AUX', 'SYM', 'X', 'SCONJ'],\n",
       "      dtype=object)"
      ]
     },
     "execution_count": 95,
     "metadata": {},
     "output_type": "execute_result"
    }
   ],
   "source": [
    "all_df['upos'].unique()"
   ]
  },
  {
   "cell_type": "code",
   "execution_count": 105,
   "id": "2aae505f-ed0f-4861-b5b2-03e0c19421d5",
   "metadata": {},
   "outputs": [
    {
     "name": "stdout",
     "output_type": "stream",
     "text": [
      "ADJ\n",
      "bilingual:  37399.510660608175  ipm\n",
      "monolingual:  7763.975155279503  ipm\n",
      "adult:  8210.180623973727  ipm\n",
      "CCONJ\n",
      "bilingual:  40195.73575672842  ipm\n",
      "monolingual:  7763.975155279503  ipm\n",
      "adult:  19704.433497536946  ipm\n",
      "SCONJ\n",
      "bilingual:  7340.090877315624  ipm\n",
      "monolingual:  5693.581780538302  ipm\n",
      "adult:  8210.180623973727  ipm\n",
      "PART\n",
      "bilingual:  59769.31142957008  ipm\n",
      "monolingual:  35714.28571428571  ipm\n",
      "adult:  39408.86699507389  ipm\n",
      "NOUN\n",
      "bilingual:  102411.7441454037  ipm\n",
      "monolingual:  147515.52795031056  ipm\n",
      "adult:  198686.37110016422  ipm\n"
     ]
    }
   ],
   "source": [
    "for pos in ['ADJ', 'CCONJ', 'SCONJ', 'PART', 'NOUN']:\n",
    "    print(pos)\n",
    "    for group in group_names:\n",
    "        group_df = all_df[all_df['group'] == group]\n",
    "        print(f'{group}: ',\n",
    "            len(group_df[group_df['upos'] == pos]) / len(group_df) * 10**6,\n",
    "              ' ipm')"
   ]
  },
  {
   "cell_type": "markdown",
   "id": "f20bd74b-aa60-42f8-bacd-0a70cdc894c2",
   "metadata": {},
   "source": []
  }
 ],
 "metadata": {
  "kernelspec": {
   "display_name": "Python 3",
   "language": "python",
   "name": "python3"
  },
  "language_info": {
   "codemirror_mode": {
    "name": "ipython",
    "version": 3
   },
   "file_extension": ".py",
   "mimetype": "text/x-python",
   "name": "python",
   "nbconvert_exporter": "python",
   "pygments_lexer": "ipython3",
   "version": "3.7.4"
  },
  "toc-autonumbering": false
 },
 "nbformat": 4,
 "nbformat_minor": 5
}
